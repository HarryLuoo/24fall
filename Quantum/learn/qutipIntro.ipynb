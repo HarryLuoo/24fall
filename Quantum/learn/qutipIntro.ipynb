{
 "cells": [
  {
   "cell_type": "markdown",
   "metadata": {},
   "source": [
    "# QuTip Basics\n",
    "\n",
    "- Import statements\n",
    "  "
   ]
  },
  {
   "cell_type": "code",
   "execution_count": 1,
   "metadata": {},
   "outputs": [],
   "source": [
    "from qutip import *\n",
    "import numpy as np\n",
    "import matplotlib.pyplot as plt\n"
   ]
  },
  {
   "cell_type": "markdown",
   "metadata": {},
   "source": [
    "## Quantum Object Class: Qobj\n",
    "We represent matrices used in QM(quantum states and operators) as instances of the Quantum Object class, `Qobj`. It also contains properties that characterize the matrices, i.e. Data, Type, isHermitian, Dim, Shape. \n",
    "\n",
    "### Qobj delearation\n",
    "Let's try generating a Pauli-Y matrix using two methods: \n",
    "- manually feeding `Qobj` with an array \n",
    "- using predifiend objects. \n",
    "  \n",
    "Then, find its dimension and type."
   ]
  },
  {
   "cell_type": "code",
   "execution_count": 2,
   "metadata": {},
   "outputs": [
    {
     "name": "stdout",
     "output_type": "stream",
     "text": [
      "Quantum object: dims=[[2], [2]], shape=(2, 2), type='oper', dtype=Dense, isherm=True\n",
      "Qobj data =\n",
      "[[ 0.+0.j -0.-1.j]\n",
      " [ 0.+1.j  0.+0.j]]\n",
      "Quantum object: dims=[[2], [2]], shape=(2, 2), type='oper', dtype=CSR, isherm=True\n",
      "Qobj data =\n",
      "[[0.+0.j 0.-1.j]\n",
      " [0.+1.j 0.+0.j]]\n",
      "[[2], [2], 'oper']\n"
     ]
    }
   ],
   "source": [
    "y = np.array([[0, -1j], [1j, 0]])\n",
    "pauli_y1 = Qobj(y)\n",
    "print(pauli_y1)\n",
    "\n",
    "pauli_y2 = sigmay()\n",
    "print(pauli_y2)\n",
    "\n",
    "print(pauli_y1.dims + [pauli_y1.type])\n"
   ]
  },
  {
   "cell_type": "markdown",
   "metadata": {},
   "source": [
    "### Qobj math\n",
    "`Qobj` satisfy common matrix operation. But it's worth investigating matrix-scalar addition. Consider the following code, and it's clear that scalar-matrix addition is performed in a way that the scalar is added to each diagnal element."
   ]
  },
  {
   "cell_type": "code",
   "execution_count": 3,
   "metadata": {},
   "outputs": [
    {
     "name": "stdout",
     "output_type": "stream",
     "text": [
      "Quantum object: dims=[[3], [3]], shape=(3, 3), type='oper', dtype=Dense, isherm=True\n",
      "Qobj data =\n",
      "[[4. 1. 1.]\n",
      " [1. 4. 1.]\n",
      " [1. 1. 4.]]\n"
     ]
    }
   ],
   "source": [
    "a = np.array([[1,1,1],[1,1,1],[1,1,1]])\n",
    "A = Qobj(a)\n",
    "print(3 + A)\n"
   ]
  },
  {
   "cell_type": "markdown",
   "metadata": {},
   "source": [
    "### Functions operate on Qobj\n",
    "Consider several examples of methods that operate on Qobj class instances:"
   ]
  },
  {
   "cell_type": "code",
   "execution_count": 5,
   "metadata": {},
   "outputs": [
    {
     "name": "stdout",
     "output_type": "stream",
     "text": [
      "3.0\n",
      "[1. 1. 1.]\n",
      "[[1.+0.j 1.+0.j 1.+0.j]\n",
      " [1.+0.j 1.+0.j 1.+0.j]\n",
      " [1.+0.j 1.+0.j 1.+0.j]]\n"
     ]
    }
   ],
   "source": [
    "# norm of a Qobj\n",
    "print(A.norm())\n",
    "\n",
    "# trace of a Qobj\n",
    "print(A.diag())\n",
    "\n",
    "# full matrix representation of a Qobj\n",
    "print(A.full())\n",
    "\n"
   ]
  },
  {
   "cell_type": "markdown",
   "metadata": {},
   "source": [
    "----\n",
    "## Manipulating States and Operators\n",
    "Below are several ways we can perform basic operations with states and operators."
   ]
  },
  {
   "cell_type": "code",
   "execution_count": null,
   "metadata": {},
   "outputs": [],
   "source": []
  }
 ],
 "metadata": {
  "kernelspec": {
   "display_name": "Python 3",
   "language": "python",
   "name": "python3"
  },
  "language_info": {
   "codemirror_mode": {
    "name": "ipython",
    "version": 3
   },
   "file_extension": ".py",
   "mimetype": "text/x-python",
   "name": "python",
   "nbconvert_exporter": "python",
   "pygments_lexer": "ipython3",
   "version": "3.11.9"
  }
 },
 "nbformat": 4,
 "nbformat_minor": 2
}
